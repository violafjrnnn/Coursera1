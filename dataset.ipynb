{
  "cells": [
    {
      "cell_type": "markdown",
      "metadata": {
        "id": "view-in-github",
        "colab_type": "text"
      },
      "source": [
        "<a href=\"https://colab.research.google.com/github/violafjrnnn/Coursera1/blob/main/dataset.ipynb\" target=\"_parent\"><img src=\"https://colab.research.google.com/assets/colab-badge.svg\" alt=\"Open In Colab\"/></a>"
      ]
    },
    {
      "cell_type": "code",
      "execution_count": 1,
      "metadata": {
        "id": "NDgGT87dnDOW"
      },
      "outputs": [],
      "source": [
        "!mkdir ~/.kaggle"
      ]
    },
    {
      "cell_type": "code",
      "execution_count": 2,
      "metadata": {
        "colab": {
          "base_uri": "https://localhost:8080/",
          "height": 90
        },
        "id": "X22kpzPRnIHx",
        "outputId": "53fc30d2-e622-4ebd-d1bc-b6aeb9002b10"
      },
      "outputs": [
        {
          "output_type": "display_data",
          "data": {
            "text/plain": [
              "<IPython.core.display.HTML object>"
            ],
            "text/html": [
              "\n",
              "     <input type=\"file\" id=\"files-071d2e10-7eb9-4871-aabe-93f7627651c1\" name=\"files[]\" multiple disabled\n",
              "        style=\"border:none\" />\n",
              "     <output id=\"result-071d2e10-7eb9-4871-aabe-93f7627651c1\">\n",
              "      Upload widget is only available when the cell has been executed in the\n",
              "      current browser session. Please rerun this cell to enable.\n",
              "      </output>\n",
              "      <script>// Copyright 2017 Google LLC\n",
              "//\n",
              "// Licensed under the Apache License, Version 2.0 (the \"License\");\n",
              "// you may not use this file except in compliance with the License.\n",
              "// You may obtain a copy of the License at\n",
              "//\n",
              "//      http://www.apache.org/licenses/LICENSE-2.0\n",
              "//\n",
              "// Unless required by applicable law or agreed to in writing, software\n",
              "// distributed under the License is distributed on an \"AS IS\" BASIS,\n",
              "// WITHOUT WARRANTIES OR CONDITIONS OF ANY KIND, either express or implied.\n",
              "// See the License for the specific language governing permissions and\n",
              "// limitations under the License.\n",
              "\n",
              "/**\n",
              " * @fileoverview Helpers for google.colab Python module.\n",
              " */\n",
              "(function(scope) {\n",
              "function span(text, styleAttributes = {}) {\n",
              "  const element = document.createElement('span');\n",
              "  element.textContent = text;\n",
              "  for (const key of Object.keys(styleAttributes)) {\n",
              "    element.style[key] = styleAttributes[key];\n",
              "  }\n",
              "  return element;\n",
              "}\n",
              "\n",
              "// Max number of bytes which will be uploaded at a time.\n",
              "const MAX_PAYLOAD_SIZE = 100 * 1024;\n",
              "\n",
              "function _uploadFiles(inputId, outputId) {\n",
              "  const steps = uploadFilesStep(inputId, outputId);\n",
              "  const outputElement = document.getElementById(outputId);\n",
              "  // Cache steps on the outputElement to make it available for the next call\n",
              "  // to uploadFilesContinue from Python.\n",
              "  outputElement.steps = steps;\n",
              "\n",
              "  return _uploadFilesContinue(outputId);\n",
              "}\n",
              "\n",
              "// This is roughly an async generator (not supported in the browser yet),\n",
              "// where there are multiple asynchronous steps and the Python side is going\n",
              "// to poll for completion of each step.\n",
              "// This uses a Promise to block the python side on completion of each step,\n",
              "// then passes the result of the previous step as the input to the next step.\n",
              "function _uploadFilesContinue(outputId) {\n",
              "  const outputElement = document.getElementById(outputId);\n",
              "  const steps = outputElement.steps;\n",
              "\n",
              "  const next = steps.next(outputElement.lastPromiseValue);\n",
              "  return Promise.resolve(next.value.promise).then((value) => {\n",
              "    // Cache the last promise value to make it available to the next\n",
              "    // step of the generator.\n",
              "    outputElement.lastPromiseValue = value;\n",
              "    return next.value.response;\n",
              "  });\n",
              "}\n",
              "\n",
              "/**\n",
              " * Generator function which is called between each async step of the upload\n",
              " * process.\n",
              " * @param {string} inputId Element ID of the input file picker element.\n",
              " * @param {string} outputId Element ID of the output display.\n",
              " * @return {!Iterable<!Object>} Iterable of next steps.\n",
              " */\n",
              "function* uploadFilesStep(inputId, outputId) {\n",
              "  const inputElement = document.getElementById(inputId);\n",
              "  inputElement.disabled = false;\n",
              "\n",
              "  const outputElement = document.getElementById(outputId);\n",
              "  outputElement.innerHTML = '';\n",
              "\n",
              "  const pickedPromise = new Promise((resolve) => {\n",
              "    inputElement.addEventListener('change', (e) => {\n",
              "      resolve(e.target.files);\n",
              "    });\n",
              "  });\n",
              "\n",
              "  const cancel = document.createElement('button');\n",
              "  inputElement.parentElement.appendChild(cancel);\n",
              "  cancel.textContent = 'Cancel upload';\n",
              "  const cancelPromise = new Promise((resolve) => {\n",
              "    cancel.onclick = () => {\n",
              "      resolve(null);\n",
              "    };\n",
              "  });\n",
              "\n",
              "  // Wait for the user to pick the files.\n",
              "  const files = yield {\n",
              "    promise: Promise.race([pickedPromise, cancelPromise]),\n",
              "    response: {\n",
              "      action: 'starting',\n",
              "    }\n",
              "  };\n",
              "\n",
              "  cancel.remove();\n",
              "\n",
              "  // Disable the input element since further picks are not allowed.\n",
              "  inputElement.disabled = true;\n",
              "\n",
              "  if (!files) {\n",
              "    return {\n",
              "      response: {\n",
              "        action: 'complete',\n",
              "      }\n",
              "    };\n",
              "  }\n",
              "\n",
              "  for (const file of files) {\n",
              "    const li = document.createElement('li');\n",
              "    li.append(span(file.name, {fontWeight: 'bold'}));\n",
              "    li.append(span(\n",
              "        `(${file.type || 'n/a'}) - ${file.size} bytes, ` +\n",
              "        `last modified: ${\n",
              "            file.lastModifiedDate ? file.lastModifiedDate.toLocaleDateString() :\n",
              "                                    'n/a'} - `));\n",
              "    const percent = span('0% done');\n",
              "    li.appendChild(percent);\n",
              "\n",
              "    outputElement.appendChild(li);\n",
              "\n",
              "    const fileDataPromise = new Promise((resolve) => {\n",
              "      const reader = new FileReader();\n",
              "      reader.onload = (e) => {\n",
              "        resolve(e.target.result);\n",
              "      };\n",
              "      reader.readAsArrayBuffer(file);\n",
              "    });\n",
              "    // Wait for the data to be ready.\n",
              "    let fileData = yield {\n",
              "      promise: fileDataPromise,\n",
              "      response: {\n",
              "        action: 'continue',\n",
              "      }\n",
              "    };\n",
              "\n",
              "    // Use a chunked sending to avoid message size limits. See b/62115660.\n",
              "    let position = 0;\n",
              "    do {\n",
              "      const length = Math.min(fileData.byteLength - position, MAX_PAYLOAD_SIZE);\n",
              "      const chunk = new Uint8Array(fileData, position, length);\n",
              "      position += length;\n",
              "\n",
              "      const base64 = btoa(String.fromCharCode.apply(null, chunk));\n",
              "      yield {\n",
              "        response: {\n",
              "          action: 'append',\n",
              "          file: file.name,\n",
              "          data: base64,\n",
              "        },\n",
              "      };\n",
              "\n",
              "      let percentDone = fileData.byteLength === 0 ?\n",
              "          100 :\n",
              "          Math.round((position / fileData.byteLength) * 100);\n",
              "      percent.textContent = `${percentDone}% done`;\n",
              "\n",
              "    } while (position < fileData.byteLength);\n",
              "  }\n",
              "\n",
              "  // All done.\n",
              "  yield {\n",
              "    response: {\n",
              "      action: 'complete',\n",
              "    }\n",
              "  };\n",
              "}\n",
              "\n",
              "scope.google = scope.google || {};\n",
              "scope.google.colab = scope.google.colab || {};\n",
              "scope.google.colab._files = {\n",
              "  _uploadFiles,\n",
              "  _uploadFilesContinue,\n",
              "};\n",
              "})(self);\n",
              "</script> "
            ]
          },
          "metadata": {}
        },
        {
          "output_type": "stream",
          "name": "stdout",
          "text": [
            "Saving kaggle.json to kaggle.json\n"
          ]
        },
        {
          "output_type": "execute_result",
          "data": {
            "text/plain": [
              "{'kaggle.json': b'{\"username\":\"violafajrin\",\"key\":\"b40aaaf4aef9c0a827ede12dece1a402\"}'}"
            ]
          },
          "metadata": {},
          "execution_count": 2
        }
      ],
      "source": [
        "from google.colab import files\n",
        "files.upload()"
      ]
    },
    {
      "cell_type": "code",
      "execution_count": 3,
      "metadata": {
        "id": "r0nFBT6-kjZC"
      },
      "outputs": [],
      "source": [
        "#mengubah akses file kaggle kredensial\n",
        "!mv kaggle.json ~/.kaggle/"
      ]
    },
    {
      "cell_type": "code",
      "execution_count": 4,
      "metadata": {
        "colab": {
          "base_uri": "https://localhost:8080/"
        },
        "id": "QrIZyZ3CknTS",
        "outputId": "e51904bd-568f-4850-d42d-3750c662d630"
      },
      "outputs": [
        {
          "output_type": "stream",
          "name": "stdout",
          "text": [
            "Warning: Your Kaggle API key is readable by other users on this system! To fix this, you can run 'chmod 600 /root/.kaggle/kaggle.json'\n",
            "Downloading face-shape-dataset.zip to /content\n",
            " 97% 617M/639M [00:05<00:00, 116MB/s]\n",
            "100% 639M/639M [00:05<00:00, 124MB/s]\n"
          ]
        }
      ],
      "source": [
        "#import dataset ke dalam folder konten\n",
        "!kaggle datasets download -d niten19/face-shape-dataset"
      ]
    },
    {
      "cell_type": "code",
      "execution_count": 5,
      "metadata": {
        "id": "GjyDu3uCk5fd"
      },
      "outputs": [],
      "source": [
        "#mengeskstrak file dataset\n",
        "\n",
        "import zipfile\n",
        "zip_file = zipfile.ZipFile('/content/face-shape-dataset.zip')\n",
        "zip_file.extractall('/tmp/')"
      ]
    },
    {
      "cell_type": "code",
      "execution_count": 6,
      "metadata": {
        "id": "2_x2lipDpJHd"
      },
      "outputs": [],
      "source": [
        "from PIL import ImageFile\n",
        "ImageFile.LOAD_TRUNCATED_IMAGES = True"
      ]
    },
    {
      "cell_type": "code",
      "execution_count": 7,
      "metadata": {
        "id": "cNecmwtYx3p_"
      },
      "outputs": [],
      "source": [
        "#mengimport ImageDataGenerator\n",
        "\n",
        "from tensorflow.keras.preprocessing.image import ImageDataGenerator\n",
        "import os\n",
        "import glob\n",
        "import h5py\n",
        "from PIL import Image\n",
        "from keras.models import Sequential, Model\n",
        "from keras.applications.vgg16 import VGG16, preprocess_input\n",
        "#from keras.preprocessing.image import ImageDataGenerator\n",
        "from keras.models import Sequential\n",
        "from keras.layers import Conv2D, MaxPooling2D, Dense, Dropout, Input, Flatten, SeparableConv2D\n",
        "from keras.layers import GlobalMaxPooling2D\n",
        "#from keras.layers.normalization import BatchNormalization\n",
        "from keras.models import Model\n",
        "from keras.optimizers import Adam, SGD, RMSprop\n",
        "from keras.callbacks import ModelCheckpoint, Callback, EarlyStopping\n",
        "from keras.utils import to_categorical\n",
        "from keras import backend as K\n",
        "import numpy as np"
      ]
    },
    {
      "cell_type": "code",
      "execution_count": 8,
      "metadata": {
        "colab": {
          "base_uri": "https://localhost:8080/"
        },
        "id": "IuFEUr9hEnpE",
        "outputId": "c101592e-58b6-435e-e07c-808deaf957ae"
      },
      "outputs": [
        {
          "output_type": "stream",
          "name": "stdout",
          "text": [
            "Found 4000 images belonging to 5 classes.\n",
            "Found 1000 images belonging to 5 classes.\n"
          ]
        }
      ],
      "source": [
        "batch_size = 16  #was 16\n",
        "train_images = '../tmp/FaceShape Dataset/training_set'\n",
        "test_images = '../tmp/FaceShape Dataset/testing_set'\n",
        "\n",
        "TrainDatagen = ImageDataGenerator(\n",
        "        preprocessing_function= preprocess_input,\n",
        "        horizontal_flip = True,\n",
        "        vertical_flip=True\n",
        ")\n",
        "\n",
        "TestDatagen = ImageDataGenerator(\n",
        "    preprocessing_function= preprocess_input\n",
        "\n",
        ")\n",
        "\n",
        "train_data = TrainDatagen.flow_from_directory(\n",
        "    train_images,\n",
        "    target_size = (224,224),\n",
        "    batch_size =batch_size,\n",
        "    class_mode = 'categorical'\n",
        "\n",
        "\n",
        ")\n",
        "\n",
        "test_data = TestDatagen.flow_from_directory(\n",
        "    test_images,\n",
        "    target_size = (224,224),\n",
        "    batch_size = batch_size,\n",
        "    class_mode = 'categorical'\n",
        ")"
      ]
    },
    {
      "cell_type": "code",
      "execution_count": 9,
      "metadata": {
        "id": "jFr_Hw8dHS9p"
      },
      "outputs": [],
      "source": [
        "import tensorflow as tf\n",
        "from tensorflow.keras.layers import BatchNormalization\n",
        "\n",
        "def build_model():\n",
        "    input_img = Input(shape=(224,224,3), name='ImageInput')\n",
        "    x = Conv2D(64, (3,3), activation='relu', padding='same', name='Conv1_1')(input_img)\n",
        "    x = Conv2D(64, (3,3), activation='relu', padding='same', name='Conv1_2')(x)\n",
        "    x = MaxPooling2D((2,2), name='pool1')(x)\n",
        "    \n",
        "    x = SeparableConv2D(128, (3,3), activation='relu', padding='same', name='Conv2_1')(x)\n",
        "    x = SeparableConv2D(128, (3,3), activation='relu', padding='same', name='Conv2_2')(x)\n",
        "    x = MaxPooling2D((2,2), name='pool2')(x)\n",
        "    \n",
        "    x = SeparableConv2D(256, (3,3), activation='relu', padding='same', name='Conv3_1')(x)\n",
        "    x = BatchNormalization(name='bn1')(x)\n",
        "    x = SeparableConv2D(256, (3,3), activation='relu', padding='same', name='Conv3_2')(x)\n",
        "    x = BatchNormalization(name='bn2')(x)\n",
        "    x = SeparableConv2D(256, (3,3), activation='relu', padding='same', name='Conv3_3')(x)\n",
        "    x = MaxPooling2D((2,2), name='pool3')(x)\n",
        "    \n",
        "    x = SeparableConv2D(512, (3,3), activation='relu', padding='same', name='Conv4_1')(x)\n",
        "    x = BatchNormalization(name='bn3')(x)\n",
        "    x = SeparableConv2D(512, (3,3), activation='relu', padding='same', name='Conv4_2')(x)\n",
        "    x = BatchNormalization(name='bn4')(x)\n",
        "    x = SeparableConv2D(512, (3,3), activation='relu', padding='same', name='Conv4_3')(x)\n",
        "    x = MaxPooling2D((2,2), name='pool4')(x)\n",
        "    \n",
        "    x = Flatten(name='flatten')(x)\n",
        "    x = Dense(1024, activation='relu', name='fc1')(x)\n",
        "    x = Dropout(0.7, name='dropout1')(x)\n",
        "    x = Dense(512, activation='relu', name='fc2')(x)\n",
        "    x = Dropout(0.5, name='dropout2')(x)\n",
        "    x = Dense(5, activation='softmax', name='fc3')(x)\n",
        "\n",
        "    model = Model(inputs=input_img, outputs=x)\n",
        "    return model"
      ]
    },
    {
      "cell_type": "code",
      "execution_count": 10,
      "metadata": {
        "colab": {
          "base_uri": "https://localhost:8080/"
        },
        "id": "Kjcpi6P1H8rI",
        "outputId": "dc0771a9-5cd0-470d-dfae-d7a54e7abccb"
      },
      "outputs": [
        {
          "output_type": "stream",
          "name": "stdout",
          "text": [
            "Model: \"model\"\n",
            "_________________________________________________________________\n",
            " Layer (type)                Output Shape              Param #   \n",
            "=================================================================\n",
            " ImageInput (InputLayer)     [(None, 224, 224, 3)]     0         \n",
            "                                                                 \n",
            " Conv1_1 (Conv2D)            (None, 224, 224, 64)      1792      \n",
            "                                                                 \n",
            " Conv1_2 (Conv2D)            (None, 224, 224, 64)      36928     \n",
            "                                                                 \n",
            " pool1 (MaxPooling2D)        (None, 112, 112, 64)      0         \n",
            "                                                                 \n",
            " Conv2_1 (SeparableConv2D)   (None, 112, 112, 128)     8896      \n",
            "                                                                 \n",
            " Conv2_2 (SeparableConv2D)   (None, 112, 112, 128)     17664     \n",
            "                                                                 \n",
            " pool2 (MaxPooling2D)        (None, 56, 56, 128)       0         \n",
            "                                                                 \n",
            " Conv3_1 (SeparableConv2D)   (None, 56, 56, 256)       34176     \n",
            "                                                                 \n",
            " bn1 (BatchNormalization)    (None, 56, 56, 256)       1024      \n",
            "                                                                 \n",
            " Conv3_2 (SeparableConv2D)   (None, 56, 56, 256)       68096     \n",
            "                                                                 \n",
            " bn2 (BatchNormalization)    (None, 56, 56, 256)       1024      \n",
            "                                                                 \n",
            " Conv3_3 (SeparableConv2D)   (None, 56, 56, 256)       68096     \n",
            "                                                                 \n",
            " pool3 (MaxPooling2D)        (None, 28, 28, 256)       0         \n",
            "                                                                 \n",
            " Conv4_1 (SeparableConv2D)   (None, 28, 28, 512)       133888    \n",
            "                                                                 \n",
            " bn3 (BatchNormalization)    (None, 28, 28, 512)       2048      \n",
            "                                                                 \n",
            " Conv4_2 (SeparableConv2D)   (None, 28, 28, 512)       267264    \n",
            "                                                                 \n",
            " bn4 (BatchNormalization)    (None, 28, 28, 512)       2048      \n",
            "                                                                 \n",
            " Conv4_3 (SeparableConv2D)   (None, 28, 28, 512)       267264    \n",
            "                                                                 \n",
            " pool4 (MaxPooling2D)        (None, 14, 14, 512)       0         \n",
            "                                                                 \n",
            " flatten (Flatten)           (None, 100352)            0         \n",
            "                                                                 \n",
            " fc1 (Dense)                 (None, 1024)              102761472 \n",
            "                                                                 \n",
            " dropout1 (Dropout)          (None, 1024)              0         \n",
            "                                                                 \n",
            " fc2 (Dense)                 (None, 512)               524800    \n",
            "                                                                 \n",
            " dropout2 (Dropout)          (None, 512)               0         \n",
            "                                                                 \n",
            " fc3 (Dense)                 (None, 5)                 2565      \n",
            "                                                                 \n",
            "=================================================================\n",
            "Total params: 104,199,045\n",
            "Trainable params: 104,195,973\n",
            "Non-trainable params: 3,072\n",
            "_________________________________________________________________\n"
          ]
        }
      ],
      "source": [
        "model =  build_model()\n",
        "model.summary()"
      ]
    },
    {
      "cell_type": "code",
      "execution_count": 14,
      "metadata": {
        "id": "n1vO8AX0IKYv"
      },
      "outputs": [],
      "source": [
        "# opt = RMSprop(lr=0.0001, decay=1e-6)\n",
        "opt = Adam(lr=0.0001, decay=1e-5)\n",
        "es = EarlyStopping(patience=5,min_delta= .05, monitor=\"val_accuracy\")\n",
        "chkpt = ModelCheckpoint(filepath='best_model_todate', save_best_only=True, save_weights_only=True)\n",
        "model.compile(loss='categorical_crossentropy', metrics=['accuracy'],optimizer=opt)"
      ]
    },
    {
      "cell_type": "code",
      "execution_count": 20,
      "metadata": {
        "colab": {
          "base_uri": "https://localhost:8080/"
        },
        "id": "5T50ykdNIye_",
        "outputId": "85c632fb-dd8e-4a69-9d49-771a82601152"
      },
      "outputs": [
        {
          "metadata": {
            "tags": null
          },
          "name": "stderr",
          "output_type": "stream",
          "text": [
            "<ipython-input-20-5c4e98390a8d>:1: UserWarning: `Model.fit_generator` is deprecated and will be removed in a future version. Please use `Model.fit`, which supports generators.\n",
            "  history = model.fit_generator(\n"
          ]
        },
        {
          "output_type": "stream",
          "name": "stdout",
          "text": [
            "Epoch 1/50\n",
            "250/250 [==============================] - 84s 336ms/step - loss: 0.8446 - accuracy: 0.6743 - val_loss: 1.2571 - val_accuracy: 0.5020\n",
            "Epoch 2/50\n",
            "250/250 [==============================] - 82s 328ms/step - loss: 0.8036 - accuracy: 0.6902 - val_loss: 1.1972 - val_accuracy: 0.5202\n",
            "Epoch 3/50\n",
            "250/250 [==============================] - 82s 329ms/step - loss: 0.7363 - accuracy: 0.7150 - val_loss: 1.3732 - val_accuracy: 0.4899\n",
            "Epoch 4/50\n",
            "250/250 [==============================] - 81s 322ms/step - loss: 0.7185 - accuracy: 0.7245 - val_loss: 1.2810 - val_accuracy: 0.5242\n",
            "Epoch 5/50\n",
            "250/250 [==============================] - 73s 292ms/step - loss: 0.6858 - accuracy: 0.7398 - val_loss: 1.3447 - val_accuracy: 0.5081\n",
            "Epoch 6/50\n",
            "250/250 [==============================] - 82s 328ms/step - loss: 0.6439 - accuracy: 0.7602 - val_loss: 1.2784 - val_accuracy: 0.5151\n",
            "Epoch 7/50\n",
            "250/250 [==============================] - 81s 323ms/step - loss: 0.6040 - accuracy: 0.7690 - val_loss: 1.3187 - val_accuracy: 0.5262\n",
            "Epoch 8/50\n",
            "250/250 [==============================] - 73s 293ms/step - loss: 0.5802 - accuracy: 0.7845 - val_loss: 1.2139 - val_accuracy: 0.5524\n",
            "Epoch 9/50\n",
            "250/250 [==============================] - 81s 325ms/step - loss: 0.5528 - accuracy: 0.7980 - val_loss: 1.3375 - val_accuracy: 0.5423\n",
            "Epoch 10/50\n",
            "250/250 [==============================] - 74s 294ms/step - loss: 0.4911 - accuracy: 0.8255 - val_loss: 1.6337 - val_accuracy: 0.4990\n",
            "Epoch 11/50\n",
            "250/250 [==============================] - 81s 323ms/step - loss: 0.4629 - accuracy: 0.8288 - val_loss: 1.4094 - val_accuracy: 0.5494\n",
            "Epoch 12/50\n",
            "250/250 [==============================] - 81s 324ms/step - loss: 0.4388 - accuracy: 0.8422 - val_loss: 1.3876 - val_accuracy: 0.5333\n",
            "Epoch 13/50\n",
            "250/250 [==============================] - 81s 325ms/step - loss: 0.4195 - accuracy: 0.8495 - val_loss: 1.4319 - val_accuracy: 0.5363\n",
            "Epoch 14/50\n",
            "250/250 [==============================] - 82s 326ms/step - loss: 0.3896 - accuracy: 0.8600 - val_loss: 1.3718 - val_accuracy: 0.5484\n",
            "Epoch 15/50\n",
            "250/250 [==============================] - 81s 326ms/step - loss: 0.3508 - accuracy: 0.8715 - val_loss: 1.4636 - val_accuracy: 0.5696\n",
            "Epoch 16/50\n",
            "250/250 [==============================] - 73s 293ms/step - loss: 0.3452 - accuracy: 0.8763 - val_loss: 1.5263 - val_accuracy: 0.5302\n",
            "Epoch 17/50\n",
            "250/250 [==============================] - 81s 323ms/step - loss: 0.3117 - accuracy: 0.8852 - val_loss: 1.5207 - val_accuracy: 0.5635\n",
            "Epoch 18/50\n",
            "250/250 [==============================] - 81s 325ms/step - loss: 0.2851 - accuracy: 0.8995 - val_loss: 1.6701 - val_accuracy: 0.5524\n",
            "Epoch 19/50\n",
            "250/250 [==============================] - 81s 324ms/step - loss: 0.2805 - accuracy: 0.9032 - val_loss: 1.5443 - val_accuracy: 0.5464\n",
            "Epoch 20/50\n",
            "250/250 [==============================] - 74s 297ms/step - loss: 0.2697 - accuracy: 0.9065 - val_loss: 1.5641 - val_accuracy: 0.5534\n",
            "Epoch 21/50\n",
            "250/250 [==============================] - 80s 321ms/step - loss: 0.2385 - accuracy: 0.9180 - val_loss: 1.5969 - val_accuracy: 0.5726\n",
            "Epoch 22/50\n",
            "250/250 [==============================] - 81s 323ms/step - loss: 0.2146 - accuracy: 0.9270 - val_loss: 1.8446 - val_accuracy: 0.5474\n",
            "Epoch 23/50\n",
            "250/250 [==============================] - 81s 322ms/step - loss: 0.2101 - accuracy: 0.9310 - val_loss: 1.6977 - val_accuracy: 0.5615\n",
            "Epoch 24/50\n",
            "250/250 [==============================] - 80s 319ms/step - loss: 0.1958 - accuracy: 0.9330 - val_loss: 1.8127 - val_accuracy: 0.5454\n",
            "Epoch 25/50\n",
            "250/250 [==============================] - 80s 321ms/step - loss: 0.1890 - accuracy: 0.9320 - val_loss: 1.7820 - val_accuracy: 0.5685\n",
            "Epoch 26/50\n",
            "250/250 [==============================] - 72s 290ms/step - loss: 0.1828 - accuracy: 0.9358 - val_loss: 1.8020 - val_accuracy: 0.5776\n",
            "Epoch 27/50\n",
            "250/250 [==============================] - 72s 288ms/step - loss: 0.1630 - accuracy: 0.9448 - val_loss: 1.8532 - val_accuracy: 0.5514\n",
            "Epoch 28/50\n",
            "250/250 [==============================] - 81s 322ms/step - loss: 0.1617 - accuracy: 0.9445 - val_loss: 1.9157 - val_accuracy: 0.5413\n",
            "Epoch 29/50\n",
            "250/250 [==============================] - 81s 322ms/step - loss: 0.1546 - accuracy: 0.9490 - val_loss: 1.8139 - val_accuracy: 0.5544\n",
            "Epoch 30/50\n",
            "250/250 [==============================] - 80s 321ms/step - loss: 0.1409 - accuracy: 0.9505 - val_loss: 1.7466 - val_accuracy: 0.5837\n",
            "Epoch 31/50\n",
            "250/250 [==============================] - 80s 321ms/step - loss: 0.1346 - accuracy: 0.9517 - val_loss: 1.9363 - val_accuracy: 0.5756\n",
            "Epoch 32/50\n",
            "250/250 [==============================] - 72s 288ms/step - loss: 0.1389 - accuracy: 0.9513 - val_loss: 1.8265 - val_accuracy: 0.5756\n",
            "Epoch 33/50\n",
            "250/250 [==============================] - 80s 321ms/step - loss: 0.1153 - accuracy: 0.9597 - val_loss: 2.3247 - val_accuracy: 0.5464\n",
            "Epoch 34/50\n",
            "250/250 [==============================] - 80s 320ms/step - loss: 0.1118 - accuracy: 0.9607 - val_loss: 1.9644 - val_accuracy: 0.5696\n",
            "Epoch 35/50\n",
            "250/250 [==============================] - 80s 321ms/step - loss: 0.1296 - accuracy: 0.9588 - val_loss: 1.8179 - val_accuracy: 0.5625\n",
            "Epoch 36/50\n",
            "250/250 [==============================] - 81s 321ms/step - loss: 0.1115 - accuracy: 0.9613 - val_loss: 1.9221 - val_accuracy: 0.5706\n",
            "Epoch 37/50\n",
            "250/250 [==============================] - 81s 324ms/step - loss: 0.1073 - accuracy: 0.9650 - val_loss: 1.8831 - val_accuracy: 0.5665\n",
            "Epoch 38/50\n",
            "250/250 [==============================] - 81s 322ms/step - loss: 0.0990 - accuracy: 0.9663 - val_loss: 1.7854 - val_accuracy: 0.5746\n",
            "Epoch 39/50\n",
            "250/250 [==============================] - 74s 293ms/step - loss: 0.0956 - accuracy: 0.9682 - val_loss: 2.5860 - val_accuracy: 0.5312\n",
            "Epoch 40/50\n",
            "250/250 [==============================] - 81s 324ms/step - loss: 0.1055 - accuracy: 0.9650 - val_loss: 2.1488 - val_accuracy: 0.5786\n",
            "Epoch 41/50\n",
            "250/250 [==============================] - 73s 293ms/step - loss: 0.0929 - accuracy: 0.9712 - val_loss: 2.1078 - val_accuracy: 0.5615\n",
            "Epoch 42/50\n",
            "250/250 [==============================] - 80s 321ms/step - loss: 0.0911 - accuracy: 0.9697 - val_loss: 2.0121 - val_accuracy: 0.5907\n",
            "Epoch 43/50\n",
            "250/250 [==============================] - 80s 320ms/step - loss: 0.0806 - accuracy: 0.9740 - val_loss: 1.9950 - val_accuracy: 0.5726\n",
            "Epoch 44/50\n",
            "250/250 [==============================] - 72s 287ms/step - loss: 0.0686 - accuracy: 0.9772 - val_loss: 2.1865 - val_accuracy: 0.5575\n",
            "Epoch 45/50\n",
            "250/250 [==============================] - 80s 319ms/step - loss: 0.0843 - accuracy: 0.9718 - val_loss: 2.5086 - val_accuracy: 0.5766\n",
            "Epoch 46/50\n",
            "250/250 [==============================] - 80s 321ms/step - loss: 0.0713 - accuracy: 0.9755 - val_loss: 2.1634 - val_accuracy: 0.5776\n",
            "Epoch 47/50\n",
            "250/250 [==============================] - 80s 319ms/step - loss: 0.0810 - accuracy: 0.9718 - val_loss: 2.3138 - val_accuracy: 0.5786\n",
            "Epoch 48/50\n",
            "250/250 [==============================] - 80s 319ms/step - loss: 0.0713 - accuracy: 0.9768 - val_loss: 2.1459 - val_accuracy: 0.5927\n",
            "Epoch 49/50\n",
            "250/250 [==============================] - 80s 320ms/step - loss: 0.0759 - accuracy: 0.9758 - val_loss: 2.1513 - val_accuracy: 0.5605\n",
            "Epoch 50/50\n",
            "250/250 [==============================] - 80s 321ms/step - loss: 0.0665 - accuracy: 0.9780 - val_loss: 2.2704 - val_accuracy: 0.5837\n"
          ]
        }
      ],
      "source": [
        "history = model.fit_generator(\n",
        "    train_data,              \n",
        "    steps_per_epoch = train_data.samples//batch_size,\n",
        "    validation_data = test_data,\n",
        "    validation_steps = test_data.samples//batch_size,\n",
        "    epochs = 50,\n",
        ")\n",
        "model.save(\"test.h5\")"
      ]
    },
    {
      "cell_type": "code",
      "execution_count": 29,
      "metadata": {
        "colab": {
          "base_uri": "https://localhost:8080/"
        },
        "id": "8ZWJhdOwy0qi",
        "outputId": "7dbf1730-1c80-4022-9417-e6831c70ebbe"
      },
      "outputs": [
        {
          "output_type": "stream",
          "name": "stdout",
          "text": [
            "Looking in indexes: https://pypi.org/simple, https://us-python.pkg.dev/colab-wheels/public/simple/\n",
            "Requirement already satisfied: tensorflowjs in /usr/local/lib/python3.10/dist-packages (4.6.0)\n",
            "Requirement already satisfied: flax<0.6.3,>=0.6.2 in /usr/local/lib/python3.10/dist-packages (from tensorflowjs) (0.6.2)\n",
            "Requirement already satisfied: importlib_resources>=5.9.0 in /usr/local/lib/python3.10/dist-packages (from tensorflowjs) (5.12.0)\n",
            "Requirement already satisfied: jax>=0.3.16 in /usr/local/lib/python3.10/dist-packages (from tensorflowjs) (0.4.10)\n",
            "Requirement already satisfied: tensorflow<3,>=2.12.0 in /usr/local/lib/python3.10/dist-packages (from tensorflowjs) (2.12.0)\n",
            "Requirement already satisfied: tensorflow-decision-forests>=1.3.0 in /usr/local/lib/python3.10/dist-packages (from tensorflowjs) (1.3.0)\n",
            "Requirement already satisfied: six<2,>=1.12.0 in /usr/local/lib/python3.10/dist-packages (from tensorflowjs) (1.16.0)\n",
            "Requirement already satisfied: tensorflow-hub>=0.13.0 in /usr/local/lib/python3.10/dist-packages (from tensorflowjs) (0.13.0)\n",
            "Requirement already satisfied: packaging~=20.9 in /usr/local/lib/python3.10/dist-packages (from tensorflowjs) (20.9)\n",
            "Requirement already satisfied: numpy>=1.12 in /usr/local/lib/python3.10/dist-packages (from flax<0.6.3,>=0.6.2->tensorflowjs) (1.22.4)\n",
            "Requirement already satisfied: matplotlib in /usr/local/lib/python3.10/dist-packages (from flax<0.6.3,>=0.6.2->tensorflowjs) (3.7.1)\n",
            "Requirement already satisfied: msgpack in /usr/local/lib/python3.10/dist-packages (from flax<0.6.3,>=0.6.2->tensorflowjs) (1.0.5)\n",
            "Requirement already satisfied: optax in /usr/local/lib/python3.10/dist-packages (from flax<0.6.3,>=0.6.2->tensorflowjs) (0.1.5)\n",
            "Requirement already satisfied: tensorstore in /usr/local/lib/python3.10/dist-packages (from flax<0.6.3,>=0.6.2->tensorflowjs) (0.1.36)\n",
            "Requirement already satisfied: rich>=11.1 in /usr/local/lib/python3.10/dist-packages (from flax<0.6.3,>=0.6.2->tensorflowjs) (13.3.4)\n",
            "Requirement already satisfied: typing-extensions>=4.1.1 in /usr/local/lib/python3.10/dist-packages (from flax<0.6.3,>=0.6.2->tensorflowjs) (4.5.0)\n",
            "Requirement already satisfied: PyYAML>=5.4.1 in /usr/local/lib/python3.10/dist-packages (from flax<0.6.3,>=0.6.2->tensorflowjs) (6.0)\n",
            "Requirement already satisfied: ml-dtypes>=0.1.0 in /usr/local/lib/python3.10/dist-packages (from jax>=0.3.16->tensorflowjs) (0.1.0)\n",
            "Requirement already satisfied: opt-einsum in /usr/local/lib/python3.10/dist-packages (from jax>=0.3.16->tensorflowjs) (3.3.0)\n",
            "Requirement already satisfied: scipy>=1.7 in /usr/local/lib/python3.10/dist-packages (from jax>=0.3.16->tensorflowjs) (1.10.1)\n",
            "Requirement already satisfied: pyparsing>=2.0.2 in /usr/local/lib/python3.10/dist-packages (from packaging~=20.9->tensorflowjs) (3.0.9)\n",
            "Requirement already satisfied: absl-py>=1.0.0 in /usr/local/lib/python3.10/dist-packages (from tensorflow<3,>=2.12.0->tensorflowjs) (1.4.0)\n",
            "Requirement already satisfied: astunparse>=1.6.0 in /usr/local/lib/python3.10/dist-packages (from tensorflow<3,>=2.12.0->tensorflowjs) (1.6.3)\n",
            "Requirement already satisfied: flatbuffers>=2.0 in /usr/local/lib/python3.10/dist-packages (from tensorflow<3,>=2.12.0->tensorflowjs) (23.3.3)\n",
            "Requirement already satisfied: gast<=0.4.0,>=0.2.1 in /usr/local/lib/python3.10/dist-packages (from tensorflow<3,>=2.12.0->tensorflowjs) (0.4.0)\n",
            "Requirement already satisfied: google-pasta>=0.1.1 in /usr/local/lib/python3.10/dist-packages (from tensorflow<3,>=2.12.0->tensorflowjs) (0.2.0)\n",
            "Requirement already satisfied: grpcio<2.0,>=1.24.3 in /usr/local/lib/python3.10/dist-packages (from tensorflow<3,>=2.12.0->tensorflowjs) (1.54.0)\n",
            "Requirement already satisfied: h5py>=2.9.0 in /usr/local/lib/python3.10/dist-packages (from tensorflow<3,>=2.12.0->tensorflowjs) (3.8.0)\n",
            "Requirement already satisfied: keras<2.13,>=2.12.0 in /usr/local/lib/python3.10/dist-packages (from tensorflow<3,>=2.12.0->tensorflowjs) (2.12.0)\n",
            "Requirement already satisfied: libclang>=13.0.0 in /usr/local/lib/python3.10/dist-packages (from tensorflow<3,>=2.12.0->tensorflowjs) (16.0.0)\n",
            "Requirement already satisfied: protobuf!=4.21.0,!=4.21.1,!=4.21.2,!=4.21.3,!=4.21.4,!=4.21.5,<5.0.0dev,>=3.20.3 in /usr/local/lib/python3.10/dist-packages (from tensorflow<3,>=2.12.0->tensorflowjs) (3.20.3)\n",
            "Requirement already satisfied: setuptools in /usr/local/lib/python3.10/dist-packages (from tensorflow<3,>=2.12.0->tensorflowjs) (67.7.2)\n",
            "Requirement already satisfied: tensorboard<2.13,>=2.12 in /usr/local/lib/python3.10/dist-packages (from tensorflow<3,>=2.12.0->tensorflowjs) (2.12.2)\n",
            "Requirement already satisfied: tensorflow-estimator<2.13,>=2.12.0 in /usr/local/lib/python3.10/dist-packages (from tensorflow<3,>=2.12.0->tensorflowjs) (2.12.0)\n",
            "Requirement already satisfied: termcolor>=1.1.0 in /usr/local/lib/python3.10/dist-packages (from tensorflow<3,>=2.12.0->tensorflowjs) (2.3.0)\n",
            "Requirement already satisfied: wrapt<1.15,>=1.11.0 in /usr/local/lib/python3.10/dist-packages (from tensorflow<3,>=2.12.0->tensorflowjs) (1.14.1)\n",
            "Requirement already satisfied: tensorflow-io-gcs-filesystem>=0.23.1 in /usr/local/lib/python3.10/dist-packages (from tensorflow<3,>=2.12.0->tensorflowjs) (0.32.0)\n",
            "Requirement already satisfied: pandas in /usr/local/lib/python3.10/dist-packages (from tensorflow-decision-forests>=1.3.0->tensorflowjs) (1.5.3)\n",
            "Requirement already satisfied: wheel in /usr/local/lib/python3.10/dist-packages (from tensorflow-decision-forests>=1.3.0->tensorflowjs) (0.40.0)\n",
            "Requirement already satisfied: wurlitzer in /usr/local/lib/python3.10/dist-packages (from tensorflow-decision-forests>=1.3.0->tensorflowjs) (3.0.3)\n",
            "Requirement already satisfied: markdown-it-py<3.0.0,>=2.2.0 in /usr/local/lib/python3.10/dist-packages (from rich>=11.1->flax<0.6.3,>=0.6.2->tensorflowjs) (2.2.0)\n",
            "Requirement already satisfied: pygments<3.0.0,>=2.13.0 in /usr/local/lib/python3.10/dist-packages (from rich>=11.1->flax<0.6.3,>=0.6.2->tensorflowjs) (2.14.0)\n",
            "Requirement already satisfied: google-auth<3,>=1.6.3 in /usr/local/lib/python3.10/dist-packages (from tensorboard<2.13,>=2.12->tensorflow<3,>=2.12.0->tensorflowjs) (2.17.3)\n",
            "Requirement already satisfied: google-auth-oauthlib<1.1,>=0.5 in /usr/local/lib/python3.10/dist-packages (from tensorboard<2.13,>=2.12->tensorflow<3,>=2.12.0->tensorflowjs) (1.0.0)\n",
            "Requirement already satisfied: markdown>=2.6.8 in /usr/local/lib/python3.10/dist-packages (from tensorboard<2.13,>=2.12->tensorflow<3,>=2.12.0->tensorflowjs) (3.4.3)\n",
            "Requirement already satisfied: requests<3,>=2.21.0 in /usr/local/lib/python3.10/dist-packages (from tensorboard<2.13,>=2.12->tensorflow<3,>=2.12.0->tensorflowjs) (2.27.1)\n",
            "Requirement already satisfied: tensorboard-data-server<0.8.0,>=0.7.0 in /usr/local/lib/python3.10/dist-packages (from tensorboard<2.13,>=2.12->tensorflow<3,>=2.12.0->tensorflowjs) (0.7.0)\n",
            "Requirement already satisfied: tensorboard-plugin-wit>=1.6.0 in /usr/local/lib/python3.10/dist-packages (from tensorboard<2.13,>=2.12->tensorflow<3,>=2.12.0->tensorflowjs) (1.8.1)\n",
            "Requirement already satisfied: werkzeug>=1.0.1 in /usr/local/lib/python3.10/dist-packages (from tensorboard<2.13,>=2.12->tensorflow<3,>=2.12.0->tensorflowjs) (2.3.0)\n",
            "Requirement already satisfied: contourpy>=1.0.1 in /usr/local/lib/python3.10/dist-packages (from matplotlib->flax<0.6.3,>=0.6.2->tensorflowjs) (1.0.7)\n",
            "Requirement already satisfied: cycler>=0.10 in /usr/local/lib/python3.10/dist-packages (from matplotlib->flax<0.6.3,>=0.6.2->tensorflowjs) (0.11.0)\n",
            "Requirement already satisfied: fonttools>=4.22.0 in /usr/local/lib/python3.10/dist-packages (from matplotlib->flax<0.6.3,>=0.6.2->tensorflowjs) (4.39.3)\n",
            "Requirement already satisfied: kiwisolver>=1.0.1 in /usr/local/lib/python3.10/dist-packages (from matplotlib->flax<0.6.3,>=0.6.2->tensorflowjs) (1.4.4)\n",
            "Requirement already satisfied: pillow>=6.2.0 in /usr/local/lib/python3.10/dist-packages (from matplotlib->flax<0.6.3,>=0.6.2->tensorflowjs) (8.4.0)\n",
            "Requirement already satisfied: python-dateutil>=2.7 in /usr/local/lib/python3.10/dist-packages (from matplotlib->flax<0.6.3,>=0.6.2->tensorflowjs) (2.8.2)\n",
            "Requirement already satisfied: chex>=0.1.5 in /usr/local/lib/python3.10/dist-packages (from optax->flax<0.6.3,>=0.6.2->tensorflowjs) (0.1.7)\n",
            "Requirement already satisfied: jaxlib>=0.1.37 in /usr/local/lib/python3.10/dist-packages (from optax->flax<0.6.3,>=0.6.2->tensorflowjs) (0.4.10+cuda11.cudnn86)\n",
            "Requirement already satisfied: pytz>=2020.1 in /usr/local/lib/python3.10/dist-packages (from pandas->tensorflow-decision-forests>=1.3.0->tensorflowjs) (2022.7.1)\n",
            "Requirement already satisfied: dm-tree>=0.1.5 in /usr/local/lib/python3.10/dist-packages (from chex>=0.1.5->optax->flax<0.6.3,>=0.6.2->tensorflowjs) (0.1.8)\n",
            "Requirement already satisfied: toolz>=0.9.0 in /usr/local/lib/python3.10/dist-packages (from chex>=0.1.5->optax->flax<0.6.3,>=0.6.2->tensorflowjs) (0.12.0)\n",
            "Requirement already satisfied: cachetools<6.0,>=2.0.0 in /usr/local/lib/python3.10/dist-packages (from google-auth<3,>=1.6.3->tensorboard<2.13,>=2.12->tensorflow<3,>=2.12.0->tensorflowjs) (5.3.0)\n",
            "Requirement already satisfied: pyasn1-modules>=0.2.1 in /usr/local/lib/python3.10/dist-packages (from google-auth<3,>=1.6.3->tensorboard<2.13,>=2.12->tensorflow<3,>=2.12.0->tensorflowjs) (0.3.0)\n",
            "Requirement already satisfied: rsa<5,>=3.1.4 in /usr/local/lib/python3.10/dist-packages (from google-auth<3,>=1.6.3->tensorboard<2.13,>=2.12->tensorflow<3,>=2.12.0->tensorflowjs) (4.9)\n",
            "Requirement already satisfied: requests-oauthlib>=0.7.0 in /usr/local/lib/python3.10/dist-packages (from google-auth-oauthlib<1.1,>=0.5->tensorboard<2.13,>=2.12->tensorflow<3,>=2.12.0->tensorflowjs) (1.3.1)\n",
            "Requirement already satisfied: mdurl~=0.1 in /usr/local/lib/python3.10/dist-packages (from markdown-it-py<3.0.0,>=2.2.0->rich>=11.1->flax<0.6.3,>=0.6.2->tensorflowjs) (0.1.2)\n",
            "Requirement already satisfied: urllib3<1.27,>=1.21.1 in /usr/local/lib/python3.10/dist-packages (from requests<3,>=2.21.0->tensorboard<2.13,>=2.12->tensorflow<3,>=2.12.0->tensorflowjs) (1.26.15)\n",
            "Requirement already satisfied: certifi>=2017.4.17 in /usr/local/lib/python3.10/dist-packages (from requests<3,>=2.21.0->tensorboard<2.13,>=2.12->tensorflow<3,>=2.12.0->tensorflowjs) (2022.12.7)\n",
            "Requirement already satisfied: charset-normalizer~=2.0.0 in /usr/local/lib/python3.10/dist-packages (from requests<3,>=2.21.0->tensorboard<2.13,>=2.12->tensorflow<3,>=2.12.0->tensorflowjs) (2.0.12)\n",
            "Requirement already satisfied: idna<4,>=2.5 in /usr/local/lib/python3.10/dist-packages (from requests<3,>=2.21.0->tensorboard<2.13,>=2.12->tensorflow<3,>=2.12.0->tensorflowjs) (3.4)\n",
            "Requirement already satisfied: MarkupSafe>=2.1.1 in /usr/local/lib/python3.10/dist-packages (from werkzeug>=1.0.1->tensorboard<2.13,>=2.12->tensorflow<3,>=2.12.0->tensorflowjs) (2.1.2)\n",
            "Requirement already satisfied: pyasn1<0.6.0,>=0.4.6 in /usr/local/lib/python3.10/dist-packages (from pyasn1-modules>=0.2.1->google-auth<3,>=1.6.3->tensorboard<2.13,>=2.12->tensorflow<3,>=2.12.0->tensorflowjs) (0.5.0)\n",
            "Requirement already satisfied: oauthlib>=3.0.0 in /usr/local/lib/python3.10/dist-packages (from requests-oauthlib>=0.7.0->google-auth-oauthlib<1.1,>=0.5->tensorboard<2.13,>=2.12->tensorflow<3,>=2.12.0->tensorflowjs) (3.2.2)\n"
          ]
        }
      ],
      "source": [
        "import tensorflow as tf\n",
        "!pip install tensorflowjs"
      ]
    },
    {
      "cell_type": "code",
      "source": [
        "!pip install pyyaml h5py"
      ],
      "metadata": {
        "colab": {
          "base_uri": "https://localhost:8080/"
        },
        "id": "Sfcpl72LqKf9",
        "outputId": "558f5727-c48a-414f-9505-5e4acc57348b"
      },
      "execution_count": 30,
      "outputs": [
        {
          "output_type": "stream",
          "name": "stdout",
          "text": [
            "Looking in indexes: https://pypi.org/simple, https://us-python.pkg.dev/colab-wheels/public/simple/\n",
            "Requirement already satisfied: pyyaml in /usr/local/lib/python3.10/dist-packages (6.0)\n",
            "Requirement already satisfied: h5py in /usr/local/lib/python3.10/dist-packages (3.8.0)\n",
            "Requirement already satisfied: numpy>=1.14.5 in /usr/local/lib/python3.10/dist-packages (from h5py) (1.22.4)\n"
          ]
        }
      ]
    },
    {
      "cell_type": "code",
      "source": [
        "model.save('test.h5')"
      ],
      "metadata": {
        "id": "O_1r9tUOxW_i"
      },
      "execution_count": 34,
      "outputs": []
    },
    {
      "cell_type": "code",
      "source": [
        "!mkdir ~/.model\n",
        "!tensorflowjs_converter --input_format keras test.h5 model/"
      ],
      "metadata": {
        "colab": {
          "base_uri": "https://localhost:8080/"
        },
        "id": "KH2sdexKqU_k",
        "outputId": "e56c3f52-bfc8-45f0-c277-b3b9f2964540"
      },
      "execution_count": 36,
      "outputs": [
        {
          "output_type": "stream",
          "name": "stdout",
          "text": [
            "2023-06-05 08:58:31.491977: W tensorflow/compiler/tf2tensorrt/utils/py_utils.cc:38] TF-TRT Warning: Could not find TensorRT\n"
          ]
        }
      ]
    },
    {
      "cell_type": "code",
      "source": [
        "!zip -r tsjf-test-1.zip model/"
      ],
      "metadata": {
        "colab": {
          "base_uri": "https://localhost:8080/"
        },
        "id": "cD65D9QFxmyI",
        "outputId": "181f20a7-ac58-4ff4-9b55-b4b7c493f18a"
      },
      "execution_count": 37,
      "outputs": [
        {
          "output_type": "stream",
          "name": "stdout",
          "text": [
            "  adding: model/ (stored 0%)\n",
            "  adding: model/group1-shard83of100.bin (deflated 8%)\n",
            "  adding: model/group1-shard44of100.bin (deflated 8%)\n",
            "  adding: model/group1-shard92of100.bin (deflated 8%)\n",
            "  adding: model/group1-shard85of100.bin (deflated 8%)\n",
            "  adding: model/group1-shard22of100.bin (deflated 8%)\n",
            "  adding: model/group1-shard53of100.bin (deflated 7%)\n",
            "  adding: model/group1-shard18of100.bin (deflated 8%)\n",
            "  adding: model/group1-shard20of100.bin (deflated 8%)\n",
            "  adding: model/group1-shard1of100.bin (deflated 8%)\n",
            "  adding: model/group1-shard30of100.bin (deflated 8%)\n",
            "  adding: model/group1-shard97of100.bin (deflated 8%)\n",
            "  adding: model/group1-shard65of100.bin (deflated 8%)\n",
            "  adding: model/group1-shard27of100.bin (deflated 8%)\n",
            "  adding: model/group1-shard10of100.bin (deflated 8%)\n",
            "  adding: model/group1-shard77of100.bin (deflated 8%)\n",
            "  adding: model/group1-shard96of100.bin (deflated 8%)\n",
            "  adding: model/group1-shard67of100.bin (deflated 7%)\n",
            "  adding: model/group1-shard45of100.bin (deflated 8%)\n",
            "  adding: model/group1-shard63of100.bin (deflated 8%)\n",
            "  adding: model/group1-shard15of100.bin (deflated 8%)\n",
            "  adding: model/group1-shard13of100.bin (deflated 8%)\n",
            "  adding: model/group1-shard90of100.bin (deflated 8%)\n",
            "  adding: model/group1-shard2of100.bin (deflated 8%)\n",
            "  adding: model/group1-shard32of100.bin (deflated 7%)\n",
            "  adding: model/group1-shard12of100.bin (deflated 8%)\n",
            "  adding: model/model.json (deflated 91%)\n",
            "  adding: model/group1-shard5of100.bin (deflated 8%)\n",
            "  adding: model/group1-shard86of100.bin (deflated 8%)\n",
            "  adding: model/group1-shard40of100.bin (deflated 7%)\n",
            "  adding: model/group1-shard75of100.bin (deflated 8%)\n",
            "  adding: model/group1-shard35of100.bin (deflated 8%)\n",
            "  adding: model/group1-shard69of100.bin (deflated 8%)\n",
            "  adding: model/group1-shard66of100.bin (deflated 8%)\n",
            "  adding: model/group1-shard70of100.bin (deflated 8%)\n",
            "  adding: model/group1-shard80of100.bin (deflated 8%)\n",
            "  adding: model/group1-shard21of100.bin (deflated 8%)\n",
            "  adding: model/group1-shard78of100.bin (deflated 8%)\n",
            "  adding: model/group1-shard46of100.bin (deflated 7%)\n",
            "  adding: model/group1-shard58of100.bin (deflated 8%)\n",
            "  adding: model/group1-shard89of100.bin (deflated 8%)\n",
            "  adding: model/group1-shard33of100.bin (deflated 7%)\n",
            "  adding: model/group1-shard41of100.bin (deflated 7%)\n",
            "  adding: model/group1-shard36of100.bin (deflated 8%)\n",
            "  adding: model/group1-shard64of100.bin (deflated 8%)\n",
            "  adding: model/group1-shard71of100.bin (deflated 8%)\n",
            "  adding: model/group1-shard72of100.bin (deflated 8%)\n",
            "  adding: model/group1-shard37of100.bin (deflated 8%)\n",
            "  adding: model/group1-shard6of100.bin (deflated 8%)\n",
            "  adding: model/group1-shard59of100.bin (deflated 8%)\n",
            "  adding: model/group1-shard24of100.bin (deflated 8%)\n",
            "  adding: model/group1-shard48of100.bin (deflated 7%)\n",
            "  adding: model/group1-shard76of100.bin (deflated 8%)\n",
            "  adding: model/group1-shard17of100.bin (deflated 8%)\n",
            "  adding: model/group1-shard8of100.bin (deflated 8%)\n",
            "  adding: model/group1-shard23of100.bin (deflated 8%)\n",
            "  adding: model/group1-shard81of100.bin (deflated 8%)\n",
            "  adding: model/group1-shard26of100.bin (deflated 7%)\n",
            "  adding: model/group1-shard29of100.bin (deflated 8%)\n",
            "  adding: model/group1-shard95of100.bin (deflated 8%)\n",
            "  adding: model/group1-shard42of100.bin (deflated 8%)\n",
            "  adding: model/group1-shard49of100.bin (deflated 8%)\n",
            "  adding: model/group1-shard87of100.bin (deflated 8%)\n",
            "  adding: model/group1-shard50of100.bin (deflated 8%)\n",
            "  adding: model/group1-shard4of100.bin (deflated 8%)\n",
            "  adding: model/group1-shard61of100.bin (deflated 7%)\n",
            "  adding: model/group1-shard16of100.bin (deflated 8%)\n",
            "  adding: model/group1-shard9of100.bin (deflated 8%)\n",
            "  adding: model/group1-shard84of100.bin (deflated 8%)\n",
            "  adding: model/group1-shard25of100.bin (deflated 8%)\n",
            "  adding: model/group1-shard79of100.bin (deflated 8%)\n",
            "  adding: model/group1-shard31of100.bin (deflated 8%)\n",
            "  adding: model/group1-shard62of100.bin (deflated 7%)\n",
            "  adding: model/group1-shard38of100.bin (deflated 8%)\n",
            "  adding: model/group1-shard19of100.bin (deflated 8%)\n",
            "  adding: model/group1-shard3of100.bin (deflated 8%)\n",
            "  adding: model/group1-shard94of100.bin (deflated 8%)\n",
            "  adding: model/group1-shard82of100.bin (deflated 8%)\n",
            "  adding: model/group1-shard98of100.bin (deflated 8%)\n",
            "  adding: model/group1-shard14of100.bin (deflated 8%)\n",
            "  adding: model/group1-shard39of100.bin (deflated 7%)\n",
            "  adding: model/group1-shard11of100.bin (deflated 8%)\n",
            "  adding: model/group1-shard28of100.bin (deflated 8%)\n",
            "  adding: model/group1-shard74of100.bin (deflated 8%)\n",
            "  adding: model/group1-shard73of100.bin (deflated 8%)\n",
            "  adding: model/group1-shard68of100.bin (deflated 7%)\n",
            "  adding: model/group1-shard47of100.bin (deflated 7%)\n",
            "  adding: model/group1-shard55of100.bin (deflated 7%)\n",
            "  adding: model/group1-shard54of100.bin (deflated 7%)\n",
            "  adding: model/group1-shard60of100.bin (deflated 7%)\n",
            "  adding: model/group1-shard100of100.bin (deflated 8%)\n",
            "  adding: model/group1-shard34of100.bin (deflated 8%)\n",
            "  adding: model/group1-shard51of100.bin (deflated 8%)\n",
            "  adding: model/group1-shard7of100.bin (deflated 8%)\n",
            "  adding: model/group1-shard56of100.bin (deflated 8%)\n",
            "  adding: model/group1-shard43of100.bin (deflated 8%)\n",
            "  adding: model/group1-shard99of100.bin (deflated 8%)\n",
            "  adding: model/group1-shard57of100.bin (deflated 8%)\n",
            "  adding: model/group1-shard88of100.bin (deflated 8%)\n",
            "  adding: model/group1-shard52of100.bin (deflated 7%)\n",
            "  adding: model/group1-shard93of100.bin (deflated 8%)\n",
            "  adding: model/group1-shard91of100.bin (deflated 8%)\n"
          ]
        }
      ]
    }
  ],
  "metadata": {
    "accelerator": "GPU",
    "colab": {
      "provenance": [],
      "include_colab_link": true
    },
    "gpuClass": "standard",
    "kernelspec": {
      "display_name": "Python 3",
      "name": "python3"
    },
    "language_info": {
      "name": "python"
    }
  },
  "nbformat": 4,
  "nbformat_minor": 0
}